{
 "cells": [
  {
   "cell_type": "code",
   "execution_count": 26,
   "id": "67034b06",
   "metadata": {},
   "outputs": [],
   "source": [
    "import numpy as np\n",
    "from sklearn.linear_model import LinearRegression"
   ]
  },
  {
   "cell_type": "markdown",
   "id": "2179f0e2",
   "metadata": {},
   "source": [
    "Reshape your data either using array.reshape(-1, 1) if your data has a single feature or array.reshape(1, -1) if it contains a single sample.\n"
   ]
  },
  {
   "cell_type": "code",
   "execution_count": 42,
   "id": "9f5244ce",
   "metadata": {},
   "outputs": [],
   "source": [
    "class LinearRegressionModel:\n",
    "    def __init__(self):\n",
    "        self.model = LinearRegression()\n",
    "        \n",
    "    def train_model(self,x,y):\n",
    "        self.model.fit(x,y)\n",
    "        r_sq = self.model.score(x,y)\n",
    "        return r_sq\n",
    "    def predict_model(self,x):\n",
    "        predictions = self.model.predict(x).round(2)\n",
    "        return predictions\n",
    "        "
   ]
  },
  {
   "cell_type": "code",
   "execution_count": 44,
   "id": "d22b1132",
   "metadata": {},
   "outputs": [
    {
     "name": "stdout",
     "output_type": "stream",
     "text": [
      "0.9564243121609196\n",
      "[2540.42 2188.88 3243.5  4298.12 5352.74 6055.82 6407.36]\n"
     ]
    }
   ],
   "source": [
    "x_train = np.array([20,45,50,60,90,100,120]).reshape(-1,1)\n",
    "y_train = np.array([3000, 4000,5500,6000,7000,9000,10000])\n",
    "model = LinearRegressionModel()\n",
    "model.train_model(x,y)\n",
    "x_text = np.array([15,10,25,40,55,65,70]).reshape(-1,1)\n",
    "predictions = model.predict_model(x_text)\n",
    "print(r_sq)\n",
    "print(predictions)\n"
   ]
  },
  {
   "cell_type": "code",
   "execution_count": null,
   "id": "063ccd49",
   "metadata": {},
   "outputs": [],
   "source": []
  }
 ],
 "metadata": {
  "kernelspec": {
   "display_name": "Python 3 (ipykernel)",
   "language": "python",
   "name": "python3"
  },
  "language_info": {
   "codemirror_mode": {
    "name": "ipython",
    "version": 3
   },
   "file_extension": ".py",
   "mimetype": "text/x-python",
   "name": "python",
   "nbconvert_exporter": "python",
   "pygments_lexer": "ipython3",
   "version": "3.10.9"
  }
 },
 "nbformat": 4,
 "nbformat_minor": 5
}
